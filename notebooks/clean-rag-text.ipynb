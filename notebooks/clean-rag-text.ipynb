{
 "cells": [
  {
   "cell_type": "code",
   "execution_count": 1,
   "metadata": {},
   "outputs": [],
   "source": [
    "BASE_PATH = '..'"
   ]
  },
  {
   "cell_type": "code",
   "execution_count": 2,
   "metadata": {},
   "outputs": [],
   "source": [
    "import re\n",
    "import os"
   ]
  },
  {
   "cell_type": "code",
   "execution_count": 9,
   "metadata": {},
   "outputs": [],
   "source": [
    "def clean_rag_text(input_file, output_file):\n",
    "    with open(input_file, 'r', encoding='utf-8') as f:\n",
    "        text = f.read()\n",
    "    \n",
    "    # Remove figure references\n",
    "    text = re.sub(r'\\(figure [^\\)]+\\)', '', text, flags=re.IGNORECASE)\n",
    "    text = re.sub(r'figure [^\\s]+', '', text, flags=re.IGNORECASE)\n",
    "    \n",
    "    # Remove unknown characters (assuming they're represented by '�')\n",
    "    text = text.replace('�', '')\n",
    "    \n",
    "    # Remove page numbers (assuming they're on their own line)\n",
    "    text = re.sub(r'^\\s*\\d+\\s*$', '', text, flags=re.MULTILINE)\n",
    "    \n",
    "    # Remove links\n",
    "    text = re.sub(r'http[s]?://(?:[a-zA-Z]|[0-9]|[$-_@.&+]|[!*\\\\(\\\\),]|(?:%[0-9a-fA-F][0-9a-fA-F]))+', '', text)\n",
    "    \n",
    "    # Remove extra whitespace\n",
    "    text = re.sub(r'\\s+', ' ', text)\n",
    "    text = re.sub(r'^\\s+|\\s+$', '', text, flags=re.MULTILINE)\n",
    "    \n",
    "    # Write cleaned text to output file\n",
    "    with open(output_file, 'w', encoding='utf-8') as f:\n",
    "        f.write(text)"
   ]
  },
  {
   "cell_type": "code",
   "execution_count": 10,
   "metadata": {},
   "outputs": [
    {
     "name": "stdout",
     "output_type": "stream",
     "text": [
      "Cleaned text saved to ../data/sleep.txt\n"
     ]
    }
   ],
   "source": [
    "input_file = f'{BASE_PATH}/data/sleep.txt'\n",
    "output_file = f'{BASE_PATH}/data/sleep.txt'\n",
    "\n",
    "clean_rag_text(input_file, output_file)\n",
    "print(f\"Cleaned text saved to {output_file}\")"
   ]
  },
  {
   "cell_type": "code",
   "execution_count": 11,
   "metadata": {},
   "outputs": [
    {
     "name": "stdout",
     "output_type": "stream",
     "text": [
      "Cleaned text saved to ../data/cars.txt\n"
     ]
    }
   ],
   "source": [
    "input_file = f'{BASE_PATH}/data/cars.txt'\n",
    "output_file = f'{BASE_PATH}/data/cars.txt'\n",
    "\n",
    "clean_rag_text(input_file, output_file)\n",
    "print(f\"Cleaned text saved to {output_file}\")"
   ]
  },
  {
   "cell_type": "code",
   "execution_count": null,
   "metadata": {},
   "outputs": [],
   "source": []
  }
 ],
 "metadata": {
  "kernelspec": {
   "display_name": "kaggle",
   "language": "python",
   "name": "python3"
  },
  "language_info": {
   "codemirror_mode": {
    "name": "ipython",
    "version": 3
   },
   "file_extension": ".py",
   "mimetype": "text/x-python",
   "name": "python",
   "nbconvert_exporter": "python",
   "pygments_lexer": "ipython3",
   "version": "3.10.14"
  }
 },
 "nbformat": 4,
 "nbformat_minor": 2
}
