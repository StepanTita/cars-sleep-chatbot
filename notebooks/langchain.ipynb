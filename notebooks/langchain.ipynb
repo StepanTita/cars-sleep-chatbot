{
 "cells": [
  {
   "cell_type": "code",
   "execution_count": 1,
   "metadata": {},
   "outputs": [
    {
     "name": "stderr",
     "output_type": "stream",
     "text": [
      "/home/stepan/.conda/envs/llm-py310/lib/python3.10/site-packages/tqdm/auto.py:21: TqdmWarning: IProgress not found. Please update jupyter and ipywidgets. See https://ipywidgets.readthedocs.io/en/stable/user_install.html\n",
      "  from .autonotebook import tqdm as notebook_tqdm\n"
     ]
    }
   ],
   "source": [
    "import json\n",
    "import transformers  # type: ignore\n",
    "\n",
    "from tqdm.auto import tqdm  # type: ignore\n",
    "\n",
    "from langchain.llms import HuggingFacePipeline  # type: ignore\n",
    "from langchain.chains import LLMChain  # type: ignore\n",
    "from langchain.prompts import PromptTemplate  # type: ignore\n",
    "\n",
    "from datasets import Dataset, DatasetDict  # type: ignore\n",
    "\n",
    "# disable warnings\n",
    "import warnings\n",
    "warnings.filterwarnings(\"ignore\")"
   ]
  },
  {
   "cell_type": "code",
   "execution_count": 2,
   "metadata": {},
   "outputs": [],
   "source": [
    "dataset_type = 'cars'\n",
    "PROMPT_MODE = 'rag'"
   ]
  },
  {
   "cell_type": "code",
   "execution_count": 3,
   "metadata": {},
   "outputs": [],
   "source": [
    "BASE_PATH = \"/home/stepan/cars-sleep-chatbot\"\n",
    "MODEL_ID = f\"{BASE_PATH}/models/{dataset_type}/llama-3_2-1b-it\"\n",
    "MAX_NEW_TOKENS = 8192\n",
    "MAX_SEQ_LENGTH = 32768 - MAX_NEW_TOKENS"
   ]
  },
  {
   "cell_type": "code",
   "execution_count": 4,
   "metadata": {},
   "outputs": [],
   "source": [
    "PROMPTS = {\n",
    "    'cars': {\n",
    "        'system': \"You are an expert in sleep science with in-depth knowledge of sleep physiology, circadian rhythms, sleep disorders, and the impact of sleep on health and cognitive performance. Your task is to generate insightful and varied answers on sleep-related topics. The answers should be diverse in complexity, suitable for learners and experts alike.\",\n",
    "        'basic': \"Human: Generate me an answer to the given question: {question}\\n\\nAssistant:\",\n",
    "        'rag': \"Use resources provided to answer the following question.\\nResources: {resources}\\n\\nHuman: Generate me an answer to the given question: {question}\\n\\nAssistant:\",\n",
    "    },\n",
    "    'sleep': {\n",
    "        'system': \"You are an expert in the history of automobiles with in-depth knowledge of the development of automobiles from the late 19th century to the present day. Your task is to generate insightful and varied answers on automobile history. The answers should be diverse in complexity, suitable for learners and experts alike.\",\n",
    "        'basic': \"Human: Generate me an answer to the given question: {question}\\n\\nAssistant:\",\n",
    "        'rag': \"Use resources provided to answer the following question.\\nResources: {resources}\\n\\nHuman: Generate me an answer to the given question: {question}\\n\\nAssistant:\",\n",
    "    }\n",
    "}"
   ]
  },
  {
   "cell_type": "code",
   "execution_count": 5,
   "metadata": {},
   "outputs": [
    {
     "name": "stderr",
     "output_type": "stream",
     "text": [
      "Unused kwargs: ['_load_in_4bit', '_load_in_8bit', 'quant_method']. These kwargs are not used in <class 'transformers.utils.quantization_config.BitsAndBytesConfig'>.\n",
      "`low_cpu_mem_usage` was None, now set to True since model is quantized.\n"
     ]
    }
   ],
   "source": [
    "text_generation_pipeline = transformers.pipeline(\n",
    "    model=MODEL_ID,\n",
    "    task=\"text-generation\",\n",
    "    temperature=0.5,\n",
    "    repetition_penalty=1.1,\n",
    "    return_full_text=True,\n",
    "    max_new_tokens=MAX_NEW_TOKENS,\n",
    ")"
   ]
  },
  {
   "cell_type": "code",
   "execution_count": 6,
   "metadata": {},
   "outputs": [],
   "source": [
    "llama_llm = HuggingFacePipeline(pipeline=text_generation_pipeline)\n",
    "\n",
    "prompt = PromptTemplate(\n",
    "    input_variables=[\"question\", \"resources\"],\n",
    "    template=PROMPTS[dataset_type][PROMPT_MODE],\n",
    ")\n",
    "\n",
    "llm_chain = LLMChain(llm=llama_llm, prompt=prompt)"
   ]
  },
  {
   "cell_type": "code",
   "execution_count": 7,
   "metadata": {},
   "outputs": [
    {
     "name": "stderr",
     "output_type": "stream",
     "text": [
      "Starting from v4.46, the `logits` model output will have the same type as the model (except at train time, where it will always be FP32)\n"
     ]
    },
    {
     "data": {
      "text/plain": [
       "{'question': 'What is the best car?',\n",
       " 'text': 'Human: Generate me an answer to the given question: What is the best car?\\n\\nAssistant: I\\'d be happy to help you with that. The answer depends on various factors such as budget, personal preferences, and intended use of the vehicle.\\n\\nHere are some top contenders for the \"best\" car:\\n\\n**Luxury Segment**\\n\\n1. **Mercedes-Benz S-Class**: A flagship sedan known for its comfort, performance, and opulent interior.\\n2. **BMW 7-Series**: A premium luxury SUV offering exceptional handling, safety features, and a spacious cabin.\\n3. **Audi R8**: A high-performance sports car featuring cutting-edge technology, stunning design, and thrilling driving experiences.\\n\\n**Performance Segment**\\n\\n1. **Porsche 911**: A legendary sports car renowned for its exceptional handling, acceleration, and distinctive design.\\n2. **Ferrari F8 Tributo**: An ultra-luxurious supercar boasting breathtaking performance, stylish design, and exclusive features.\\n3. **Nissan GT-R**: A high-performance sedan or coupe capable of delivering mind-bending speed and agility.\\n\\n**Family-Friendly Segment**\\n\\n1. **Toyota Avalon**: A spacious, comfortable, and feature-rich full-size sedan ideal for families.\\n2. **Honda Accord**: A reliable, fuel-efficient, and versatile midsize sedan perfect for daily commutes.\\n3. **Subaru Outback**: A rugged, all-wheel-drive SUV suitable for family road trips and outdoor adventures.\\n\\n**Electric/Alternative Segment**\\n\\n1. **Tesla Model S**: An eco-friendly, luxurious electric sedan showcasing innovative technology and seamless driving experiences.\\n2. **Hyundai Kona Electric**: A compact, affordable, and environmentally friendly electric crossover offering impressive range and value.\\n3. **Volkswagen ID.4**: A modern, sustainable electric SUV providing ample space and advanced features at an attractive price point.\\n\\nUltimately, the \"best\" car for you will depend on your specific needs, priorities, and preferences. Consider factors like budget, size, fuel efficiency, and personal style when making your decision. Do any of these options stand out to you?'}"
      ]
     },
     "execution_count": 7,
     "metadata": {},
     "output_type": "execute_result"
    }
   ],
   "source": [
    "llm_chain.invoke({\"question\": \"What is the best car?\"})"
   ]
  },
  {
   "cell_type": "code",
   "execution_count": 7,
   "metadata": {},
   "outputs": [],
   "source": [
    "def load_data(file_path):\n",
    "    with open(file_path, \"r\") as f:\n",
    "        data = json.load(f)\n",
    "    return data\n",
    "\n",
    "\n",
    "def to_dataset(data):\n",
    "    restructured_data = {\n",
    "        \"question\": [],\n",
    "        \"resources\": [],\n",
    "        \"answer\": [],\n",
    "    }\n",
    "\n",
    "    for qna in data:\n",
    "        restructured_data[\"question\"].append(qna[\"question\"])\n",
    "        restructured_data[\"answer\"].append(qna[\"answer\"])\n",
    "        restructured_data[\"resources\"].append('\\n'.join([resource['summary'] for resource in qna[\"citation\"]]))\n",
    "\n",
    "    return Dataset.from_dict(restructured_data)\n",
    "\n",
    "\n",
    "def prepare_dataset(base_path=None):\n",
    "    test_cars = load_data(f\"{base_path}/data/test_qa_car.json\")\n",
    "    test_sleep = load_data(f\"{base_path}/data/test_qa_sleep.json\")\n",
    "\n",
    "    test_cars_dataset = to_dataset(test_cars)\n",
    "    test_sleep_dataset = to_dataset(test_sleep)\n",
    "\n",
    "    return {\"cars\": test_cars_dataset, \"sleep\": test_sleep_dataset}"
   ]
  },
  {
   "cell_type": "code",
   "execution_count": 8,
   "metadata": {},
   "outputs": [],
   "source": [
    "dataset = prepare_dataset(base_path=BASE_PATH)"
   ]
  },
  {
   "cell_type": "code",
   "execution_count": 11,
   "metadata": {},
   "outputs": [
    {
     "name": "stderr",
     "output_type": "stream",
     "text": [
      "  0%|          | 0/27 [00:00<?, ?it/s]"
     ]
    },
    {
     "name": "stderr",
     "output_type": "stream",
     "text": [
      " 33%|███▎      | 9/27 [01:56<03:50, 12.83s/it]You seem to be using the pipelines sequentially on GPU. In order to maximize efficiency please use a dataset\n",
      "100%|██████████| 27/27 [06:00<00:00, 13.34s/it]\n"
     ]
    }
   ],
   "source": [
    "predictions = []\n",
    "for question in tqdm(dataset[dataset_type][\"question\"]):\n",
    "    predictions.append(llm_chain.invoke({\"question\": question}))\n",
    "# save predictions\n",
    "with open(f\"{BASE_PATH}/data/{dataset_type}_predictions.json\", \"w\") as f:\n",
    "    json.dump(predictions, f)"
   ]
  },
  {
   "cell_type": "markdown",
   "metadata": {},
   "source": [
    "# Test without RAG"
   ]
  },
  {
   "cell_type": "markdown",
   "metadata": {},
   "source": [
    "# RAG"
   ]
  },
  {
   "cell_type": "code",
   "execution_count": 9,
   "metadata": {},
   "outputs": [
    {
     "name": "stderr",
     "output_type": "stream",
     "text": [
      "[nltk_data] Downloading package punkt_tab to /home/stepan/nltk_data...\n",
      "[nltk_data]   Package punkt_tab is already up-to-date!\n"
     ]
    },
    {
     "data": {
      "text/plain": [
       "True"
      ]
     },
     "execution_count": 9,
     "metadata": {},
     "output_type": "execute_result"
    }
   ],
   "source": [
    "from langchain_community.document_loaders import TextLoader # type: ignore\n",
    "from langchain.text_splitter import CharacterTextSplitter, NLTKTextSplitter # type: ignore\n",
    "from langchain.vectorstores import FAISS # type: ignore\n",
    "from langchain.embeddings.huggingface import HuggingFaceEmbeddings  # type: ignore\n",
    "from langchain.schema.runnable import RunnablePassthrough # type: ignore\n",
    "from langchain.schema import Document # type: ignore\n",
    "import nltk # type: ignore\n",
    "\n",
    "nltk.download('punkt_tab')"
   ]
  },
  {
   "cell_type": "code",
   "execution_count": 10,
   "metadata": {},
   "outputs": [],
   "source": [
    "loader = TextLoader(f\"{BASE_PATH}/data/{dataset_type}.txt\")\n",
    "docs = loader.load()"
   ]
  },
  {
   "cell_type": "code",
   "execution_count": 11,
   "metadata": {},
   "outputs": [
    {
     "name": "stdout",
     "output_type": "stream",
     "text": [
      "Number of documents loaded: 1\n",
      "Length of the first document: 558434\n",
      "First 100 characters of the document: Preface When I was young, I could gaze at a beautiful image like the one opposite, of the Mercedes-B\n"
     ]
    }
   ],
   "source": [
    "print(f\"Number of documents loaded: {len(docs)}\")\n",
    "print(f\"Length of the first document: {len(docs[0].page_content)}\")\n",
    "print(f\"First 100 characters of the document: {docs[0].page_content[:100]}\")"
   ]
  },
  {
   "cell_type": "code",
   "execution_count": 12,
   "metadata": {},
   "outputs": [
    {
     "name": "stderr",
     "output_type": "stream",
     "text": [
      "Created a chunk of size 311, which is longer than the specified 250\n",
      "Created a chunk of size 287, which is longer than the specified 250\n",
      "Created a chunk of size 277, which is longer than the specified 250\n",
      "Created a chunk of size 358, which is longer than the specified 250\n",
      "Created a chunk of size 359, which is longer than the specified 250\n",
      "Created a chunk of size 317, which is longer than the specified 250\n",
      "Created a chunk of size 287, which is longer than the specified 250\n",
      "Created a chunk of size 298, which is longer than the specified 250\n",
      "Created a chunk of size 260, which is longer than the specified 250\n",
      "Created a chunk of size 356, which is longer than the specified 250\n",
      "Created a chunk of size 409, which is longer than the specified 250\n",
      "Created a chunk of size 411, which is longer than the specified 250\n",
      "Created a chunk of size 432, which is longer than the specified 250\n",
      "Created a chunk of size 290, which is longer than the specified 250\n",
      "Created a chunk of size 277, which is longer than the specified 250\n",
      "Created a chunk of size 327, which is longer than the specified 250\n",
      "Created a chunk of size 298, which is longer than the specified 250\n",
      "Created a chunk of size 422, which is longer than the specified 250\n",
      "Created a chunk of size 319, which is longer than the specified 250\n",
      "Created a chunk of size 398, which is longer than the specified 250\n",
      "Created a chunk of size 342, which is longer than the specified 250\n",
      "Created a chunk of size 498, which is longer than the specified 250\n",
      "Created a chunk of size 304, which is longer than the specified 250\n",
      "Created a chunk of size 257, which is longer than the specified 250\n",
      "Created a chunk of size 292, which is longer than the specified 250\n",
      "Created a chunk of size 259, which is longer than the specified 250\n",
      "Created a chunk of size 333, which is longer than the specified 250\n",
      "Created a chunk of size 270, which is longer than the specified 250\n",
      "Created a chunk of size 446, which is longer than the specified 250\n",
      "Created a chunk of size 283, which is longer than the specified 250\n",
      "Created a chunk of size 608, which is longer than the specified 250\n",
      "Created a chunk of size 313, which is longer than the specified 250\n",
      "Created a chunk of size 341, which is longer than the specified 250\n",
      "Created a chunk of size 272, which is longer than the specified 250\n",
      "Created a chunk of size 313, which is longer than the specified 250\n",
      "Created a chunk of size 332, which is longer than the specified 250\n",
      "Created a chunk of size 504, which is longer than the specified 250\n",
      "Created a chunk of size 313, which is longer than the specified 250\n",
      "Created a chunk of size 366, which is longer than the specified 250\n",
      "Created a chunk of size 371, which is longer than the specified 250\n",
      "Created a chunk of size 269, which is longer than the specified 250\n",
      "Created a chunk of size 282, which is longer than the specified 250\n",
      "Created a chunk of size 303, which is longer than the specified 250\n",
      "Created a chunk of size 295, which is longer than the specified 250\n",
      "Created a chunk of size 705, which is longer than the specified 250\n",
      "Created a chunk of size 280, which is longer than the specified 250\n",
      "Created a chunk of size 366, which is longer than the specified 250\n",
      "Created a chunk of size 345, which is longer than the specified 250\n",
      "Created a chunk of size 274, which is longer than the specified 250\n",
      "Created a chunk of size 296, which is longer than the specified 250\n",
      "Created a chunk of size 284, which is longer than the specified 250\n",
      "Created a chunk of size 385, which is longer than the specified 250\n",
      "Created a chunk of size 258, which is longer than the specified 250\n",
      "Created a chunk of size 317, which is longer than the specified 250\n",
      "Created a chunk of size 254, which is longer than the specified 250\n",
      "Created a chunk of size 392, which is longer than the specified 250\n",
      "Created a chunk of size 319, which is longer than the specified 250\n",
      "Created a chunk of size 291, which is longer than the specified 250\n",
      "Created a chunk of size 368, which is longer than the specified 250\n",
      "Created a chunk of size 547, which is longer than the specified 250\n",
      "Created a chunk of size 263, which is longer than the specified 250\n",
      "Created a chunk of size 264, which is longer than the specified 250\n",
      "Created a chunk of size 260, which is longer than the specified 250\n",
      "Created a chunk of size 337, which is longer than the specified 250\n",
      "Created a chunk of size 305, which is longer than the specified 250\n",
      "Created a chunk of size 425, which is longer than the specified 250\n",
      "Created a chunk of size 290, which is longer than the specified 250\n",
      "Created a chunk of size 336, which is longer than the specified 250\n",
      "Created a chunk of size 254, which is longer than the specified 250\n",
      "Created a chunk of size 296, which is longer than the specified 250\n",
      "Created a chunk of size 271, which is longer than the specified 250\n",
      "Created a chunk of size 323, which is longer than the specified 250\n",
      "Created a chunk of size 332, which is longer than the specified 250\n",
      "Created a chunk of size 403, which is longer than the specified 250\n",
      "Created a chunk of size 310, which is longer than the specified 250\n",
      "Created a chunk of size 348, which is longer than the specified 250\n",
      "Created a chunk of size 253, which is longer than the specified 250\n",
      "Created a chunk of size 266, which is longer than the specified 250\n",
      "Created a chunk of size 301, which is longer than the specified 250\n",
      "Created a chunk of size 262, which is longer than the specified 250\n",
      "Created a chunk of size 293, which is longer than the specified 250\n",
      "Created a chunk of size 340, which is longer than the specified 250\n",
      "Created a chunk of size 306, which is longer than the specified 250\n",
      "Created a chunk of size 376, which is longer than the specified 250\n",
      "Created a chunk of size 548, which is longer than the specified 250\n",
      "Created a chunk of size 669, which is longer than the specified 250\n",
      "Created a chunk of size 408, which is longer than the specified 250\n",
      "Created a chunk of size 284, which is longer than the specified 250\n",
      "Created a chunk of size 355, which is longer than the specified 250\n",
      "Created a chunk of size 309, which is longer than the specified 250\n",
      "Created a chunk of size 592, which is longer than the specified 250\n",
      "Created a chunk of size 284, which is longer than the specified 250\n",
      "Created a chunk of size 351, which is longer than the specified 250\n",
      "Created a chunk of size 367, which is longer than the specified 250\n",
      "Created a chunk of size 336, which is longer than the specified 250\n",
      "Created a chunk of size 304, which is longer than the specified 250\n",
      "Created a chunk of size 291, which is longer than the specified 250\n",
      "Created a chunk of size 277, which is longer than the specified 250\n",
      "Created a chunk of size 267, which is longer than the specified 250\n",
      "Created a chunk of size 254, which is longer than the specified 250\n",
      "Created a chunk of size 315, which is longer than the specified 250\n",
      "Created a chunk of size 713, which is longer than the specified 250\n",
      "Created a chunk of size 387, which is longer than the specified 250\n",
      "Created a chunk of size 259, which is longer than the specified 250\n",
      "Created a chunk of size 262, which is longer than the specified 250\n",
      "Created a chunk of size 479, which is longer than the specified 250\n",
      "Created a chunk of size 295, which is longer than the specified 250\n",
      "Created a chunk of size 303, which is longer than the specified 250\n",
      "Created a chunk of size 253, which is longer than the specified 250\n",
      "Created a chunk of size 369, which is longer than the specified 250\n",
      "Created a chunk of size 395, which is longer than the specified 250\n",
      "Created a chunk of size 359, which is longer than the specified 250\n",
      "Created a chunk of size 331, which is longer than the specified 250\n",
      "Created a chunk of size 300, which is longer than the specified 250\n",
      "Created a chunk of size 307, which is longer than the specified 250\n",
      "Created a chunk of size 271, which is longer than the specified 250\n",
      "Created a chunk of size 360, which is longer than the specified 250\n",
      "Created a chunk of size 254, which is longer than the specified 250\n",
      "Created a chunk of size 284, which is longer than the specified 250\n",
      "Created a chunk of size 342, which is longer than the specified 250\n",
      "Created a chunk of size 252, which is longer than the specified 250\n",
      "Created a chunk of size 258, which is longer than the specified 250\n",
      "Created a chunk of size 267, which is longer than the specified 250\n",
      "Created a chunk of size 301, which is longer than the specified 250\n",
      "Created a chunk of size 385, which is longer than the specified 250\n",
      "Created a chunk of size 368, which is longer than the specified 250\n",
      "Created a chunk of size 401, which is longer than the specified 250\n",
      "Created a chunk of size 306, which is longer than the specified 250\n",
      "Created a chunk of size 335, which is longer than the specified 250\n",
      "Created a chunk of size 652, which is longer than the specified 250\n",
      "Created a chunk of size 348, which is longer than the specified 250\n",
      "Created a chunk of size 320, which is longer than the specified 250\n",
      "Created a chunk of size 313, which is longer than the specified 250\n",
      "Created a chunk of size 561, which is longer than the specified 250\n",
      "Created a chunk of size 259, which is longer than the specified 250\n",
      "Created a chunk of size 334, which is longer than the specified 250\n",
      "Created a chunk of size 401, which is longer than the specified 250\n",
      "Created a chunk of size 324, which is longer than the specified 250\n",
      "Created a chunk of size 315, which is longer than the specified 250\n",
      "Created a chunk of size 300, which is longer than the specified 250\n",
      "Created a chunk of size 314, which is longer than the specified 250\n",
      "Created a chunk of size 350, which is longer than the specified 250\n",
      "Created a chunk of size 408, which is longer than the specified 250\n",
      "Created a chunk of size 255, which is longer than the specified 250\n",
      "Created a chunk of size 293, which is longer than the specified 250\n",
      "Created a chunk of size 296, which is longer than the specified 250\n",
      "Created a chunk of size 251, which is longer than the specified 250\n",
      "Created a chunk of size 282, which is longer than the specified 250\n",
      "Created a chunk of size 303, which is longer than the specified 250\n",
      "Created a chunk of size 260, which is longer than the specified 250\n",
      "Created a chunk of size 262, which is longer than the specified 250\n",
      "Created a chunk of size 318, which is longer than the specified 250\n",
      "Created a chunk of size 329, which is longer than the specified 250\n",
      "Created a chunk of size 269, which is longer than the specified 250\n",
      "Created a chunk of size 513, which is longer than the specified 250\n",
      "Created a chunk of size 312, which is longer than the specified 250\n",
      "Created a chunk of size 356, which is longer than the specified 250\n",
      "Created a chunk of size 372, which is longer than the specified 250\n",
      "Created a chunk of size 306, which is longer than the specified 250\n",
      "Created a chunk of size 257, which is longer than the specified 250\n",
      "Created a chunk of size 258, which is longer than the specified 250\n",
      "Created a chunk of size 348, which is longer than the specified 250\n",
      "Created a chunk of size 442, which is longer than the specified 250\n",
      "Created a chunk of size 358, which is longer than the specified 250\n",
      "Created a chunk of size 306, which is longer than the specified 250\n",
      "Created a chunk of size 613, which is longer than the specified 250\n",
      "Created a chunk of size 552, which is longer than the specified 250\n",
      "Created a chunk of size 262, which is longer than the specified 250\n",
      "Created a chunk of size 307, which is longer than the specified 250\n",
      "Created a chunk of size 252, which is longer than the specified 250\n",
      "Created a chunk of size 260, which is longer than the specified 250\n",
      "Created a chunk of size 285, which is longer than the specified 250\n",
      "Created a chunk of size 333, which is longer than the specified 250\n",
      "Created a chunk of size 296, which is longer than the specified 250\n",
      "Created a chunk of size 271, which is longer than the specified 250\n",
      "Created a chunk of size 365, which is longer than the specified 250\n",
      "Created a chunk of size 308, which is longer than the specified 250\n",
      "Created a chunk of size 258, which is longer than the specified 250\n",
      "Created a chunk of size 253, which is longer than the specified 250\n",
      "Created a chunk of size 264, which is longer than the specified 250\n",
      "Created a chunk of size 257, which is longer than the specified 250\n",
      "Created a chunk of size 332, which is longer than the specified 250\n",
      "Created a chunk of size 489, which is longer than the specified 250\n",
      "Created a chunk of size 614, which is longer than the specified 250\n",
      "Created a chunk of size 300, which is longer than the specified 250\n",
      "Created a chunk of size 466, which is longer than the specified 250\n",
      "Created a chunk of size 317, which is longer than the specified 250\n",
      "Created a chunk of size 311, which is longer than the specified 250\n",
      "Created a chunk of size 311, which is longer than the specified 250\n",
      "Created a chunk of size 256, which is longer than the specified 250\n",
      "Created a chunk of size 341, which is longer than the specified 250\n",
      "Created a chunk of size 358, which is longer than the specified 250\n",
      "Created a chunk of size 363, which is longer than the specified 250\n",
      "Created a chunk of size 261, which is longer than the specified 250\n",
      "Created a chunk of size 332, which is longer than the specified 250\n",
      "Created a chunk of size 451, which is longer than the specified 250\n",
      "Created a chunk of size 253, which is longer than the specified 250\n",
      "Created a chunk of size 299, which is longer than the specified 250\n",
      "Created a chunk of size 392, which is longer than the specified 250\n",
      "Created a chunk of size 299, which is longer than the specified 250\n",
      "Created a chunk of size 338, which is longer than the specified 250\n",
      "Created a chunk of size 309, which is longer than the specified 250\n",
      "Created a chunk of size 401, which is longer than the specified 250\n",
      "Created a chunk of size 379, which is longer than the specified 250\n",
      "Created a chunk of size 407, which is longer than the specified 250\n",
      "Created a chunk of size 389, which is longer than the specified 250\n",
      "Created a chunk of size 287, which is longer than the specified 250\n",
      "Created a chunk of size 367, which is longer than the specified 250\n",
      "Created a chunk of size 371, which is longer than the specified 250\n",
      "Created a chunk of size 384, which is longer than the specified 250\n",
      "Created a chunk of size 305, which is longer than the specified 250\n",
      "Created a chunk of size 310, which is longer than the specified 250\n",
      "Created a chunk of size 736, which is longer than the specified 250\n",
      "Created a chunk of size 255, which is longer than the specified 250\n",
      "Created a chunk of size 413, which is longer than the specified 250\n",
      "Created a chunk of size 326, which is longer than the specified 250\n",
      "Created a chunk of size 284, which is longer than the specified 250\n",
      "Created a chunk of size 261, which is longer than the specified 250\n",
      "Created a chunk of size 307, which is longer than the specified 250\n",
      "Created a chunk of size 287, which is longer than the specified 250\n",
      "Created a chunk of size 347, which is longer than the specified 250\n",
      "Created a chunk of size 381, which is longer than the specified 250\n",
      "Created a chunk of size 305, which is longer than the specified 250\n",
      "Created a chunk of size 383, which is longer than the specified 250\n",
      "Created a chunk of size 345, which is longer than the specified 250\n",
      "Created a chunk of size 265, which is longer than the specified 250\n",
      "Created a chunk of size 288, which is longer than the specified 250\n",
      "Created a chunk of size 332, which is longer than the specified 250\n",
      "Created a chunk of size 304, which is longer than the specified 250\n",
      "Created a chunk of size 436, which is longer than the specified 250\n",
      "Created a chunk of size 264, which is longer than the specified 250\n",
      "Created a chunk of size 320, which is longer than the specified 250\n",
      "Created a chunk of size 278, which is longer than the specified 250\n",
      "Created a chunk of size 350, which is longer than the specified 250\n",
      "Created a chunk of size 300, which is longer than the specified 250\n",
      "Created a chunk of size 407, which is longer than the specified 250\n",
      "Created a chunk of size 304, which is longer than the specified 250\n",
      "Created a chunk of size 279, which is longer than the specified 250\n",
      "Created a chunk of size 251, which is longer than the specified 250\n",
      "Created a chunk of size 289, which is longer than the specified 250\n",
      "Created a chunk of size 300, which is longer than the specified 250\n",
      "Created a chunk of size 545, which is longer than the specified 250\n",
      "Created a chunk of size 354, which is longer than the specified 250\n",
      "Created a chunk of size 311, which is longer than the specified 250\n",
      "Created a chunk of size 280, which is longer than the specified 250\n",
      "Created a chunk of size 363, which is longer than the specified 250\n",
      "Created a chunk of size 442, which is longer than the specified 250\n",
      "Created a chunk of size 296, which is longer than the specified 250\n",
      "Created a chunk of size 332, which is longer than the specified 250\n",
      "Created a chunk of size 470, which is longer than the specified 250\n",
      "Created a chunk of size 275, which is longer than the specified 250\n",
      "Created a chunk of size 312, which is longer than the specified 250\n",
      "Created a chunk of size 324, which is longer than the specified 250\n",
      "Created a chunk of size 447, which is longer than the specified 250\n",
      "Created a chunk of size 299, which is longer than the specified 250\n",
      "Created a chunk of size 251, which is longer than the specified 250\n",
      "Created a chunk of size 257, which is longer than the specified 250\n",
      "Created a chunk of size 275, which is longer than the specified 250\n",
      "Created a chunk of size 775, which is longer than the specified 250\n",
      "Created a chunk of size 290, which is longer than the specified 250\n",
      "Created a chunk of size 256, which is longer than the specified 250\n",
      "Created a chunk of size 290, which is longer than the specified 250\n",
      "Created a chunk of size 570, which is longer than the specified 250\n",
      "Created a chunk of size 254, which is longer than the specified 250\n",
      "Created a chunk of size 570, which is longer than the specified 250\n",
      "Created a chunk of size 360, which is longer than the specified 250\n",
      "Created a chunk of size 305, which is longer than the specified 250\n",
      "Created a chunk of size 519, which is longer than the specified 250\n",
      "Created a chunk of size 374, which is longer than the specified 250\n",
      "Created a chunk of size 268, which is longer than the specified 250\n",
      "Created a chunk of size 350, which is longer than the specified 250\n",
      "Created a chunk of size 416, which is longer than the specified 250\n",
      "Created a chunk of size 257, which is longer than the specified 250\n",
      "Created a chunk of size 293, which is longer than the specified 250\n",
      "Created a chunk of size 299, which is longer than the specified 250\n",
      "Created a chunk of size 280, which is longer than the specified 250\n",
      "Created a chunk of size 278, which is longer than the specified 250\n",
      "Created a chunk of size 266, which is longer than the specified 250\n",
      "Created a chunk of size 493, which is longer than the specified 250\n",
      "Created a chunk of size 412, which is longer than the specified 250\n",
      "Created a chunk of size 307, which is longer than the specified 250\n",
      "Created a chunk of size 263, which is longer than the specified 250\n",
      "Created a chunk of size 445, which is longer than the specified 250\n",
      "Created a chunk of size 281, which is longer than the specified 250\n",
      "Created a chunk of size 288, which is longer than the specified 250\n",
      "Created a chunk of size 302, which is longer than the specified 250\n",
      "Created a chunk of size 299, which is longer than the specified 250\n",
      "Created a chunk of size 307, which is longer than the specified 250\n",
      "Created a chunk of size 296, which is longer than the specified 250\n",
      "Created a chunk of size 363, which is longer than the specified 250\n",
      "Created a chunk of size 596, which is longer than the specified 250\n",
      "Created a chunk of size 457, which is longer than the specified 250\n",
      "Created a chunk of size 557, which is longer than the specified 250\n",
      "Created a chunk of size 317, which is longer than the specified 250\n",
      "Created a chunk of size 259, which is longer than the specified 250\n",
      "Created a chunk of size 352, which is longer than the specified 250\n",
      "Created a chunk of size 457, which is longer than the specified 250\n",
      "Created a chunk of size 323, which is longer than the specified 250\n",
      "Created a chunk of size 337, which is longer than the specified 250\n",
      "Created a chunk of size 314, which is longer than the specified 250\n",
      "Created a chunk of size 397, which is longer than the specified 250\n",
      "Created a chunk of size 303, which is longer than the specified 250\n",
      "Created a chunk of size 293, which is longer than the specified 250\n",
      "Created a chunk of size 353, which is longer than the specified 250\n",
      "Created a chunk of size 276, which is longer than the specified 250\n",
      "Created a chunk of size 279, which is longer than the specified 250\n",
      "Created a chunk of size 376, which is longer than the specified 250\n",
      "Created a chunk of size 258, which is longer than the specified 250\n",
      "Created a chunk of size 275, which is longer than the specified 250\n",
      "Created a chunk of size 698, which is longer than the specified 250\n",
      "Created a chunk of size 304, which is longer than the specified 250\n",
      "Created a chunk of size 324, which is longer than the specified 250\n",
      "Created a chunk of size 252, which is longer than the specified 250\n",
      "Created a chunk of size 304, which is longer than the specified 250\n",
      "Created a chunk of size 407, which is longer than the specified 250\n",
      "Created a chunk of size 307, which is longer than the specified 250\n",
      "Created a chunk of size 306, which is longer than the specified 250\n",
      "Created a chunk of size 500, which is longer than the specified 250\n",
      "Created a chunk of size 271, which is longer than the specified 250\n",
      "Created a chunk of size 285, which is longer than the specified 250\n",
      "Created a chunk of size 311, which is longer than the specified 250\n",
      "Created a chunk of size 315, which is longer than the specified 250\n",
      "Created a chunk of size 412, which is longer than the specified 250\n",
      "Created a chunk of size 472, which is longer than the specified 250\n",
      "Created a chunk of size 297, which is longer than the specified 250\n",
      "Created a chunk of size 272, which is longer than the specified 250\n",
      "Created a chunk of size 262, which is longer than the specified 250\n",
      "Created a chunk of size 270, which is longer than the specified 250\n",
      "Created a chunk of size 284, which is longer than the specified 250\n",
      "Created a chunk of size 391, which is longer than the specified 250\n",
      "Created a chunk of size 296, which is longer than the specified 250\n",
      "Created a chunk of size 317, which is longer than the specified 250\n",
      "Created a chunk of size 279, which is longer than the specified 250\n",
      "Created a chunk of size 299, which is longer than the specified 250\n",
      "Created a chunk of size 253, which is longer than the specified 250\n",
      "Created a chunk of size 300, which is longer than the specified 250\n",
      "Created a chunk of size 255, which is longer than the specified 250\n",
      "Created a chunk of size 426, which is longer than the specified 250\n",
      "Created a chunk of size 375, which is longer than the specified 250\n",
      "Created a chunk of size 409, which is longer than the specified 250\n",
      "Created a chunk of size 471, which is longer than the specified 250\n",
      "Created a chunk of size 260, which is longer than the specified 250\n",
      "Created a chunk of size 260, which is longer than the specified 250\n",
      "Created a chunk of size 301, which is longer than the specified 250\n",
      "Created a chunk of size 300, which is longer than the specified 250\n",
      "Created a chunk of size 257, which is longer than the specified 250\n",
      "Created a chunk of size 462, which is longer than the specified 250\n",
      "Created a chunk of size 319, which is longer than the specified 250\n",
      "Created a chunk of size 423, which is longer than the specified 250\n",
      "Created a chunk of size 560, which is longer than the specified 250\n",
      "Created a chunk of size 632, which is longer than the specified 250\n",
      "Created a chunk of size 295, which is longer than the specified 250\n",
      "Created a chunk of size 568, which is longer than the specified 250\n",
      "Created a chunk of size 327, which is longer than the specified 250\n",
      "Created a chunk of size 389, which is longer than the specified 250\n",
      "Created a chunk of size 260, which is longer than the specified 250\n",
      "Created a chunk of size 308, which is longer than the specified 250\n",
      "Created a chunk of size 331, which is longer than the specified 250\n",
      "Created a chunk of size 324, which is longer than the specified 250\n",
      "Created a chunk of size 406, which is longer than the specified 250\n",
      "Created a chunk of size 303, which is longer than the specified 250\n",
      "Created a chunk of size 377, which is longer than the specified 250\n",
      "Created a chunk of size 388, which is longer than the specified 250\n",
      "Created a chunk of size 325, which is longer than the specified 250\n",
      "Created a chunk of size 256, which is longer than the specified 250\n",
      "Created a chunk of size 279, which is longer than the specified 250\n",
      "Created a chunk of size 272, which is longer than the specified 250\n",
      "Created a chunk of size 335, which is longer than the specified 250\n",
      "Created a chunk of size 443, which is longer than the specified 250\n",
      "Created a chunk of size 307, which is longer than the specified 250\n",
      "Created a chunk of size 288, which is longer than the specified 250\n",
      "Created a chunk of size 672, which is longer than the specified 250\n",
      "Created a chunk of size 278, which is longer than the specified 250\n",
      "Created a chunk of size 265, which is longer than the specified 250\n",
      "Created a chunk of size 430, which is longer than the specified 250\n",
      "Created a chunk of size 330, which is longer than the specified 250\n",
      "Created a chunk of size 515, which is longer than the specified 250\n",
      "Created a chunk of size 300, which is longer than the specified 250\n",
      "Created a chunk of size 265, which is longer than the specified 250\n",
      "Created a chunk of size 392, which is longer than the specified 250\n",
      "Created a chunk of size 323, which is longer than the specified 250\n",
      "Created a chunk of size 302, which is longer than the specified 250\n",
      "Created a chunk of size 305, which is longer than the specified 250\n",
      "Created a chunk of size 368, which is longer than the specified 250\n",
      "Created a chunk of size 355, which is longer than the specified 250\n",
      "Created a chunk of size 332, which is longer than the specified 250\n",
      "Created a chunk of size 259, which is longer than the specified 250\n",
      "Created a chunk of size 327, which is longer than the specified 250\n",
      "Created a chunk of size 293, which is longer than the specified 250\n",
      "Created a chunk of size 413, which is longer than the specified 250\n",
      "Created a chunk of size 263, which is longer than the specified 250\n",
      "Created a chunk of size 384, which is longer than the specified 250\n",
      "Created a chunk of size 429, which is longer than the specified 250\n",
      "Created a chunk of size 416, which is longer than the specified 250\n",
      "Created a chunk of size 258, which is longer than the specified 250\n",
      "Created a chunk of size 264, which is longer than the specified 250\n",
      "Created a chunk of size 456, which is longer than the specified 250\n",
      "Created a chunk of size 397, which is longer than the specified 250\n",
      "Created a chunk of size 269, which is longer than the specified 250\n",
      "Created a chunk of size 358, which is longer than the specified 250\n",
      "Created a chunk of size 257, which is longer than the specified 250\n",
      "Created a chunk of size 637, which is longer than the specified 250\n",
      "Created a chunk of size 509, which is longer than the specified 250\n",
      "Created a chunk of size 415, which is longer than the specified 250\n",
      "Created a chunk of size 254, which is longer than the specified 250\n",
      "Created a chunk of size 267, which is longer than the specified 250\n",
      "Created a chunk of size 335, which is longer than the specified 250\n",
      "Created a chunk of size 271, which is longer than the specified 250\n",
      "Created a chunk of size 303, which is longer than the specified 250\n",
      "Created a chunk of size 307, which is longer than the specified 250\n",
      "Created a chunk of size 270, which is longer than the specified 250\n"
     ]
    }
   ],
   "source": [
    "text_splitter = NLTKTextSplitter(chunk_size=250, chunk_overlap=20)\n",
    "chunked_documents = text_splitter.split_documents(docs)"
   ]
  },
  {
   "cell_type": "code",
   "execution_count": 13,
   "metadata": {},
   "outputs": [
    {
     "data": {
      "text/plain": [
       "2771"
      ]
     },
     "execution_count": 13,
     "metadata": {},
     "output_type": "execute_result"
    }
   ],
   "source": [
    "len(chunked_documents)"
   ]
  },
  {
   "cell_type": "code",
   "execution_count": 14,
   "metadata": {},
   "outputs": [],
   "source": [
    "for doc in chunked_documents:\n",
    "    doc.metadata['dataset_type'] = dataset_type"
   ]
  },
  {
   "cell_type": "code",
   "execution_count": 15,
   "metadata": {},
   "outputs": [],
   "source": [
    "db = FAISS.from_documents(chunked_documents, HuggingFaceEmbeddings(model_name='sentence-transformers/multi-qa-MiniLM-L6-dot-v1'))\n",
    "retriever = db.as_retriever(\n",
    "    search_type=\"similarity\",\n",
    "    search_kwargs={'k': 4, 'score_threshold': 0.5},\n",
    "    filter={'dataset_type': dataset_type}\n",
    ")"
   ]
  },
  {
   "cell_type": "code",
   "execution_count": 16,
   "metadata": {},
   "outputs": [],
   "source": [
    "def format_docs(docs):\n",
    "    return \"\\n\\n\".join(doc.page_content for doc in docs)"
   ]
  },
  {
   "cell_type": "code",
   "execution_count": 17,
   "metadata": {},
   "outputs": [],
   "source": [
    "rag_chain = ( {\"resources\": retriever | format_docs, \"question\": RunnablePassthrough()} | llm_chain)"
   ]
  },
  {
   "cell_type": "code",
   "execution_count": 32,
   "metadata": {},
   "outputs": [
    {
     "data": {
      "text/plain": [
       "{'resources': '',\n",
       " 'question': 'What is the best time to go to sleep?',\n",
       " 'text': 'Generate me an answer to the given question: What is the best time to go to sleep?\\n\\nResources: 1) Sleep experts, 2) Scientific studies, 3) Personal experience.\\n\\n**Answer:** The best time to go to sleep is when your body feels rested and refreshed. This typically occurs between 9 PM and 11 PM for most adults, although individual sleep needs may vary.\\n\\n**Explanation:**\\n\\n* **Body\\'s natural rhythm**: Most people\\'s bodies have a natural circadian rhythm that regulates their sleep-wake cycle. Typically, this happens in the late afternoon or early evening.\\n* **Circadian rhythms**: Research suggests that our brains are most receptive to sleep during certain times of day, which are influenced by our internal clock.\\n* **Sleep quality**: Studies have shown that going to bed between 9 PM and 11 PM can lead to better sleep quality, including improved sleep duration, reduced sleep fragmentation, and enhanced overall sleep satisfaction.\\n* **Personal experience**: Many individuals find that they feel more alert and focused during their most productive hours (usually around 10 AM to 4 PM). Conversely, some people might prefer to wind down earlier, around 8 PM to 10 PM.\\n* **Individual variability**: It\\'s essential to note that individual sleep needs and preferences can vary significantly from person to person. Some people might require more sleep than others, so it\\'s crucial to listen to your own body and adjust accordingly.\\n\\nIn conclusion, while there isn\\'t a single \"best\" time to sleep, research suggests that getting to bed between 9 PM and 11 PM can be beneficial for many adults. However, it\\'s essential to consider personal factors, such as work schedules, social commitments, and lifestyle habits, to determine what works best for you.'}"
      ]
     },
     "execution_count": 32,
     "metadata": {},
     "output_type": "execute_result"
    }
   ],
   "source": [
    "rag_chain.invoke(\"What is the best time to go to sleep?\")"
   ]
  },
  {
   "cell_type": "code",
   "execution_count": 18,
   "metadata": {},
   "outputs": [
    {
     "name": "stderr",
     "output_type": "stream",
     "text": [
      "  0%|          | 0/26 [00:00<?, ?it/s]Starting from v4.46, the `logits` model output will have the same type as the model (except at train time, where it will always be FP32)\n",
      " 38%|███▊      | 10/26 [02:39<04:31, 16.95s/it]You seem to be using the pipelines sequentially on GPU. In order to maximize efficiency please use a dataset\n",
      "100%|██████████| 26/26 [06:07<00:00, 14.12s/it]\n"
     ]
    }
   ],
   "source": [
    "predictions = []\n",
    "for question in tqdm(dataset[dataset_type][\"question\"]):\n",
    "    predictions.append(rag_chain.invoke(question))\n",
    "# save predictions\n",
    "with open(f\"{BASE_PATH}/data/{dataset_type}_rag_predictions.json\", \"w\") as f:\n",
    "    json.dump(predictions, f)"
   ]
  },
  {
   "cell_type": "code",
   "execution_count": null,
   "metadata": {},
   "outputs": [],
   "source": []
  }
 ],
 "metadata": {
  "kernelspec": {
   "display_name": "Python 3 (ipykernel)",
   "language": "python",
   "name": "python3"
  },
  "language_info": {
   "codemirror_mode": {
    "name": "ipython",
    "version": 3
   },
   "file_extension": ".py",
   "mimetype": "text/x-python",
   "name": "python",
   "nbconvert_exporter": "python",
   "pygments_lexer": "ipython3",
   "version": "3.10.14"
  }
 },
 "nbformat": 4,
 "nbformat_minor": 2
}
