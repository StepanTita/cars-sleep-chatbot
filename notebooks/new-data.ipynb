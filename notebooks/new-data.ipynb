{
 "cells": [
  {
   "cell_type": "code",
   "execution_count": 1,
   "metadata": {},
   "outputs": [],
   "source": [
    "BASE_PATH = '..'"
   ]
  },
  {
   "cell_type": "code",
   "execution_count": 20,
   "metadata": {},
   "outputs": [],
   "source": [
    "import os\n",
    "import json\n",
    "import time\n",
    "from copy import deepcopy\n",
    "\n",
    "from tqdm.auto import tqdm\n",
    "\n",
    "from groq import Groq # type: ignore\n",
    "\n",
    "from dotenv import load_dotenv # type: ignore"
   ]
  },
  {
   "cell_type": "code",
   "execution_count": 3,
   "metadata": {},
   "outputs": [
    {
     "name": "stdout",
     "output_type": "stream",
     "text": [
      "GROQ API key loaded successfully.\n"
     ]
    }
   ],
   "source": [
    "# Load environment variables from variables.env file\n",
    "load_dotenv(f\"{BASE_PATH}/variables.env\")\n",
    "\n",
    "# Access the GROQ_API_KEY\n",
    "groq_api_key = os.getenv(\"GROQ_API_KEY\")\n",
    "\n",
    "# Verify that the key was loaded\n",
    "if groq_api_key:\n",
    "    print(\"GROQ API key loaded successfully.\")\n",
    "else:\n",
    "    print(\"Failed to load GROQ API key.\")"
   ]
  },
  {
   "cell_type": "code",
   "execution_count": 4,
   "metadata": {},
   "outputs": [],
   "source": [
    "MODEL_ID = 'llama-3.1-70b-versatile'"
   ]
  },
  {
   "cell_type": "code",
   "execution_count": 5,
   "metadata": {},
   "outputs": [],
   "source": [
    "client = Groq(\n",
    "    api_key=groq_api_key,\n",
    ")"
   ]
  },
  {
   "cell_type": "code",
   "execution_count": 26,
   "metadata": {},
   "outputs": [],
   "source": [
    "SLEEP_QUESTIONS_MESSAGES = [\n",
    "        {\n",
    "            \"role\": \"system\",\n",
    "            \"content\": \"You are an expert in sleep science with in-depth knowledge of sleep physiology, circadian rhythms, sleep disorders, and the impact of sleep on health and cognitive performance. Your task is to generate insightful and varied questions on sleep-related topics. The questions should be diverse in complexity, suitable for learners and experts alike.\",\n",
    "        },\n",
    "        {\n",
    "            \"role\": \"user\",\n",
    "            \"content\": \"\"\"Generate me a json array of 100 questions on sleep-related topics. Make sure that questions are of varied length and complexity.\n",
    "Here are some examples of questions:\n",
    "<example>\n",
    "{\n",
    "    \"questions\": [\n",
    "        \"What is the definition of sleep and how does it differ from other states of consciousness?\",\n",
    "        \"What are the different stages of sleep, and what are their unique characteristics?\"\n",
    "    ]\n",
    "}\n",
    "</example>\"\"\",\n",
    "        }\n",
    "]\n",
    "\n",
    "SLEEP_ANSWERS_MESSAGES = [\n",
    "    {\n",
    "        \"role\": \"system\",\n",
    "        \"content\": \"You are an expert in sleep science with in-depth knowledge of sleep physiology, circadian rhythms, sleep disorders, and the impact of sleep on health and cognitive performance. Your task is to generate insightful and varied answers on sleep-related topics. The answers should be diverse in complexity, suitable for learners and experts alike.\",\n",
    "    },\n",
    "    {\n",
    "        \"role\": \"user\",\n",
    "        \"content\": \"\"\"Generate me an answer to the given question. Here are some examples of answers:\n",
    "<example>\n",
    "Human: What is the definition of sleep and how does it differ from other states of consciousness?\n",
    "Assistant: Sleep is a state of reduced mental and physical activity, during which consciousness is altered and certain sensory activity is inhibited. This is different from other states of consciousness, such as wakefulness, coma, or disorders of consciousness, because sleep still involves active brain patterns and the ability to react to stimuli, albeit to a lesser extent. Sleep is characterized by repeating periods of REM and non-REM sleep, and it serves important functions for overall health and well-being.\n",
    "</example>\n",
    "\n",
    "Now generate me an answer to the following question:\n",
    "Human: {question}\"\"\",\n",
    "    }\n",
    "]"
   ]
  },
  {
   "cell_type": "code",
   "execution_count": 27,
   "metadata": {},
   "outputs": [],
   "source": [
    "CARS_QUESTIONS_MESSAGES = [\n",
    "    {\n",
    "        \"role\": \"system\",\n",
    "        \"content\": \"You are an expert in the history of automobiles with in-depth knowledge of the development of automobiles from the late 19th century to the present day. Your task is to generate insightful and varied questions on automobile history. The questions should be diverse in complexity, suitable for learners and experts alike.\",\n",
    "    },\n",
    "    {\n",
    "        \"role\": \"user\",\n",
    "        \"content\": \"\"\"Generate me a json array of 100 questions on automobile history. Make sure that questions are of varied length and complexity.\n",
    "Here are some examples of questions:\n",
    "<example>\n",
    "{\n",
    "    \"questions\": [\n",
    "        \"What were the key innovations that led to the development of the first gasoline-powered automobiles in the late 19th century?\",\n",
    "        \"How did the work of inventors like Nicolas-Joseph Cugnot, Richard Trevithick, and Samuel Brown contribute to the evolution of automobiles?\"\n",
    "    ]\n",
    "}\"\"\"\n",
    "    }\n",
    "]\n",
    "\n",
    "CARS_ANSWERS_MESSAGES = [\n",
    "    {\n",
    "        \"role\": \"system\",\n",
    "        \"content\": \"You are an expert in the history of automobiles with in-depth knowledge of the development of automobiles from the late 19th century to the present day. Your task is to generate insightful and varied answers on automobile history. The answers should be diverse in complexity, suitable for learners and experts alike.\",\n",
    "    },\n",
    "    {\n",
    "        \"role\": \"user\",\n",
    "        \"content\": \"\"\"Generate me an answer to the given question: {question}\"\"\",\n",
    "    }\n",
    "]\n"
   ]
  },
  {
   "cell_type": "code",
   "execution_count": 28,
   "metadata": {},
   "outputs": [],
   "source": [
    "def generate_questions(client, messages):\n",
    "    chat_completion = client.chat.completions.create(\n",
    "        messages=messages,\n",
    "        model=MODEL_ID,\n",
    "        response_format={ \"type\": \"json_object\" },\n",
    "        max_tokens=8000,\n",
    "        temperature=0.5\n",
    "    )\n",
    "    return json.loads(chat_completion.choices[0].message.content)\n",
    "\n",
    "def generate_answers(client, messages, questions):\n",
    "    user_msg = messages[1][\"content\"]\n",
    "    msg = deepcopy(messages)\n",
    "    answers = []\n",
    "    for q in tqdm(questions, desc=\"Generating answers\"):\n",
    "        msg[1][\"content\"] = user_msg.format(question=q)\n",
    "        chat_completion = client.chat.completions.create(\n",
    "            messages=msg,\n",
    "            model=MODEL_ID,\n",
    "            max_tokens=8000,\n",
    "            temperature=0.5\n",
    "        )\n",
    "        answers.append(chat_completion.choices[0].message.content)\n",
    "        time.sleep(1)\n",
    "    return answers\n",
    "\n",
    "def generate_data(client):\n",
    "    sleep_questions = generate_questions(client, SLEEP_QUESTIONS_MESSAGES)\n",
    "    sleep_answers = generate_answers(client, SLEEP_ANSWERS_MESSAGES, sleep_questions[\"questions\"])\n",
    "    \n",
    "    cars_questions = generate_questions(client, CARS_QUESTIONS_MESSAGES)\n",
    "    cars_answers = generate_answers(client, CARS_ANSWERS_MESSAGES, cars_questions[\"questions\"])\n",
    "    \n",
    "    return sleep_questions, sleep_answers, cars_questions, cars_answers"
   ]
  },
  {
   "cell_type": "code",
   "execution_count": 9,
   "metadata": {},
   "outputs": [
    {
     "data": {
      "application/vnd.jupyter.widget-view+json": {
       "model_id": "068a3d4f16074837bb92d6ae216a8d31",
       "version_major": 2,
       "version_minor": 0
      },
      "text/plain": [
       "Generating answers:   0%|          | 0/92 [00:00<?, ?it/s]"
      ]
     },
     "metadata": {},
     "output_type": "display_data"
    },
    {
     "data": {
      "application/vnd.jupyter.widget-view+json": {
       "model_id": "3bc74369ece147bfa78c14e68e609b47",
       "version_major": 2,
       "version_minor": 0
      },
      "text/plain": [
       "Generating answers:   0%|          | 0/118 [00:00<?, ?it/s]"
      ]
     },
     "metadata": {},
     "output_type": "display_data"
    }
   ],
   "source": [
    "sleep_questions, sleep_answers, cars_questions, cars_answers = generate_data(client)"
   ]
  },
  {
   "cell_type": "code",
   "execution_count": 31,
   "metadata": {},
   "outputs": [],
   "source": [
    "def save_qa_to_json(questions, answers, filename):\n",
    "    qa_data = [{\"question\": q, \"answer\": a} for q, a in zip(questions, answers)]\n",
    "    with open(filename, 'w') as f:\n",
    "        json.dump(qa_data, f, indent=2)\n",
    "\n",
    "# Save sleep Q&A\n",
    "save_qa_to_json(sleep_questions[\"questions\"], sleep_answers, f\"{BASE_PATH}/data/sleep_qa.json\")\n",
    "\n",
    "# Save cars Q&A\n",
    "save_qa_to_json(cars_questions[\"questions\"], cars_answers, f\"{BASE_PATH}/data/cars_qa.json\")"
   ]
  },
  {
   "cell_type": "code",
   "execution_count": null,
   "metadata": {},
   "outputs": [],
   "source": []
  }
 ],
 "metadata": {
  "kernelspec": {
   "display_name": "kaggle",
   "language": "python",
   "name": "python3"
  },
  "language_info": {
   "codemirror_mode": {
    "name": "ipython",
    "version": 3
   },
   "file_extension": ".py",
   "mimetype": "text/x-python",
   "name": "python",
   "nbconvert_exporter": "python",
   "pygments_lexer": "ipython3",
   "version": "3.10.14"
  }
 },
 "nbformat": 4,
 "nbformat_minor": 2
}
